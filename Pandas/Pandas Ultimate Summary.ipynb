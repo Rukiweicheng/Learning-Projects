{
 "cells": [
  {
   "cell_type": "markdown",
   "metadata": {},
   "source": [
    "<br>\n",
    "<font size=7><center>Pandas Ultimate Summary</center></font>  \n",
    "<br>   \n",
    "<font size=5><center>By: <mark>Weicheng Zhang</mark></center></font>  \n"
   ]
  },
  {
   "cell_type": "markdown",
   "metadata": {
    "toc": true
   },
   "source": [
    "<h1>Table of Contents<span class=\"tocSkip\"></span></h1>\n",
    "<div class=\"toc\"><ul class=\"toc-item\"><li><span><a href=\"#Motivation\" data-toc-modified-id=\"Motivation-1\"><span class=\"toc-item-num\">1&nbsp;&nbsp;</span>Motivation</a></span></li><li><span><a href=\"#Sturcture-of-this-notebook\" data-toc-modified-id=\"Sturcture-of-this-notebook-2\"><span class=\"toc-item-num\">2&nbsp;&nbsp;</span>Sturcture of this notebook</a></span></li><li><span><a href=\"#Main\" data-toc-modified-id=\"Main-3\"><span class=\"toc-item-num\">3&nbsp;&nbsp;</span>Main</a></span><ul class=\"toc-item\"><li><span><a href=\"#Data-Extraction-数据提取\" data-toc-modified-id=\"Data-Extraction-数据提取-3.1\"><span class=\"toc-item-num\">3.1&nbsp;&nbsp;</span>Data Extraction 数据提取</a></span><ul class=\"toc-item\"><li><span><a href=\"#By-Label-按标签提取(.loc)\" data-toc-modified-id=\"By-Label-按标签提取(.loc)-3.1.1\"><span class=\"toc-item-num\">3.1.1&nbsp;&nbsp;</span>By Label 按标签提取(.loc)</a></span></li><li><span><a href=\"#By-Position-按位置提取(.iloc)\" data-toc-modified-id=\"By-Position-按位置提取(.iloc)-3.1.2\"><span class=\"toc-item-num\">3.1.2&nbsp;&nbsp;</span>By Position 按位置提取(.iloc)</a></span></li><li><span><a href=\"#By-Boolean-布尔提取\" data-toc-modified-id=\"By-Boolean-布尔提取-3.1.3\"><span class=\"toc-item-num\">3.1.3&nbsp;&nbsp;</span>By Boolean 布尔提取</a></span></li><li><span><a href=\"#Others\" data-toc-modified-id=\"Others-3.1.4\"><span class=\"toc-item-num\">3.1.4&nbsp;&nbsp;</span>Others</a></span></li></ul></li><li><span><a href=\"#Data-Cleaning-数据清理\" data-toc-modified-id=\"Data-Cleaning-数据清理-3.2\"><span class=\"toc-item-num\">3.2&nbsp;&nbsp;</span>Data Cleaning 数据清理</a></span><ul class=\"toc-item\"><li><span><a href=\"#检测并删除重复值\" data-toc-modified-id=\"检测并删除重复值-3.2.1\"><span class=\"toc-item-num\">3.2.1&nbsp;&nbsp;</span>检测并删除重复值</a></span></li><li><span><a href=\"#检测/填补/删除空缺值\" data-toc-modified-id=\"检测/填补/删除空缺值-3.2.2\"><span class=\"toc-item-num\">3.2.2&nbsp;&nbsp;</span>检测/填补/删除空缺值</a></span></li><li><span><a href=\"#文本处理-text-cleanning\" data-toc-modified-id=\"文本处理-text-cleanning-3.2.3\"><span class=\"toc-item-num\">3.2.3&nbsp;&nbsp;</span>文本处理 text cleanning</a></span><ul class=\"toc-item\"><li><span><a href=\"#去除空白\" data-toc-modified-id=\"去除空白-3.2.3.1\"><span class=\"toc-item-num\">3.2.3.1&nbsp;&nbsp;</span>去除空白</a></span></li><li><span><a href=\"#分列\" data-toc-modified-id=\"分列-3.2.3.2\"><span class=\"toc-item-num\">3.2.3.2&nbsp;&nbsp;</span>分列</a></span></li><li><span><a href=\"#大小写\" data-toc-modified-id=\"大小写-3.2.3.3\"><span class=\"toc-item-num\">3.2.3.3&nbsp;&nbsp;</span>大小写</a></span></li><li><span><a href=\"#replace-替换\" data-toc-modified-id=\"replace-替换-3.2.3.4\"><span class=\"toc-item-num\">3.2.3.4&nbsp;&nbsp;</span>replace 替换</a></span></li><li><span><a href=\"#正则表达式\" data-toc-modified-id=\"正则表达式-3.2.3.5\"><span class=\"toc-item-num\">3.2.3.5&nbsp;&nbsp;</span>正则表达式</a></span></li></ul></li><li><span><a href=\"#变量变换\" data-toc-modified-id=\"变量变换-3.2.4\"><span class=\"toc-item-num\">3.2.4&nbsp;&nbsp;</span>变量变换</a></span><ul class=\"toc-item\"><li><span><a href=\"#数据映射\" data-toc-modified-id=\"数据映射-3.2.4.1\"><span class=\"toc-item-num\">3.2.4.1&nbsp;&nbsp;</span>数据映射</a></span></li><li><span><a href=\"#数据类型变换\" data-toc-modified-id=\"数据类型变换-3.2.4.2\"><span class=\"toc-item-num\">3.2.4.2&nbsp;&nbsp;</span>数据类型变换</a></span></li><li><span><a href=\"#分组\" data-toc-modified-id=\"分组-3.2.4.3\"><span class=\"toc-item-num\">3.2.4.3&nbsp;&nbsp;</span>分组</a></span></li><li><span><a href=\"#Dummy-variable-哑变量\" data-toc-modified-id=\"Dummy-variable-哑变量-3.2.4.4\"><span class=\"toc-item-num\">3.2.4.4&nbsp;&nbsp;</span>Dummy variable 哑变量</a></span></li><li><span><a href=\"#更改列名\" data-toc-modified-id=\"更改列名-3.2.4.5\"><span class=\"toc-item-num\">3.2.4.5&nbsp;&nbsp;</span>更改列名</a></span></li></ul></li><li><span><a href=\"#Others\" data-toc-modified-id=\"Others-3.2.5\"><span class=\"toc-item-num\">3.2.5&nbsp;&nbsp;</span>Others</a></span></li></ul></li><li><span><a href=\"#数据合并和聚合\" data-toc-modified-id=\"数据合并和聚合-3.3\"><span class=\"toc-item-num\">3.3&nbsp;&nbsp;</span>数据合并和聚合</a></span><ul class=\"toc-item\"><li><span><a href=\"#Merge/Join-横向合并\" data-toc-modified-id=\"Merge/Join-横向合并-3.3.1\"><span class=\"toc-item-num\">3.3.1&nbsp;&nbsp;</span>Merge/Join 横向合并</a></span><ul class=\"toc-item\"><li><span><a href=\"#Note-1:-keys-of-2-table-are-different\" data-toc-modified-id=\"Note-1:-keys-of-2-table-are-different-3.3.1.1\"><span class=\"toc-item-num\">3.3.1.1&nbsp;&nbsp;</span>Note 1: keys of 2 table are different</a></span></li><li><span><a href=\"#Note-2:-Duplicated-column-names-列名重复\" data-toc-modified-id=\"Note-2:-Duplicated-column-names-列名重复-3.3.1.2\"><span class=\"toc-item-num\">3.3.1.2&nbsp;&nbsp;</span>Note 2: Duplicated column names 列名重复</a></span></li><li><span><a href=\"#Note-3:-merge-by-index\" data-toc-modified-id=\"Note-3:-merge-by-index-3.3.1.3\"><span class=\"toc-item-num\">3.3.1.3&nbsp;&nbsp;</span>Note 3: merge by index</a></span></li></ul></li><li><span><a href=\"#Concatenate-纵向堆叠\" data-toc-modified-id=\"Concatenate-纵向堆叠-3.3.2\"><span class=\"toc-item-num\">3.3.2&nbsp;&nbsp;</span>Concatenate 纵向堆叠</a></span></li><li><span><a href=\"#Data-Aggregation-聚合\" data-toc-modified-id=\"Data-Aggregation-聚合-3.3.3\"><span class=\"toc-item-num\">3.3.3&nbsp;&nbsp;</span>Data Aggregation 聚合</a></span><ul class=\"toc-item\"><li><span><a href=\"#Group-By\" data-toc-modified-id=\"Group-By-3.3.3.1\"><span class=\"toc-item-num\">3.3.3.1&nbsp;&nbsp;</span>Group By</a></span></li><li><span><a href=\"#Pivot-Table-透视表\" data-toc-modified-id=\"Pivot-Table-透视表-3.3.3.2\"><span class=\"toc-item-num\">3.3.3.2&nbsp;&nbsp;</span>Pivot Table 透视表</a></span></li><li><span><a href=\"#Stack-and-Unstack\" data-toc-modified-id=\"Stack-and-Unstack-3.3.3.3\"><span class=\"toc-item-num\">3.3.3.3&nbsp;&nbsp;</span>Stack and Unstack</a></span></li><li><span><a href=\"#Cross-Tab-交叉表\" data-toc-modified-id=\"Cross-Tab-交叉表-3.3.3.4\"><span class=\"toc-item-num\">3.3.3.4&nbsp;&nbsp;</span>Cross Tab 交叉表</a></span></li></ul></li></ul></li><li><span><a href=\"#Time-Series-Manipulation\" data-toc-modified-id=\"Time-Series-Manipulation-3.4\"><span class=\"toc-item-num\">3.4&nbsp;&nbsp;</span>Time Series Manipulation</a></span></li><li><span><a href=\"#Pandas-Tricks\" data-toc-modified-id=\"Pandas-Tricks-3.5\"><span class=\"toc-item-num\">3.5&nbsp;&nbsp;</span>Pandas Tricks</a></span><ul class=\"toc-item\"><li><span><a href=\"#map,-apply-and-applymap\" data-toc-modified-id=\"map,-apply-and-applymap-3.5.1\"><span class=\"toc-item-num\">3.5.1&nbsp;&nbsp;</span>map, apply and applymap</a></span></li><li><span><a href=\"#Other-useful-functions-其他有用的函数\" data-toc-modified-id=\"Other-useful-functions-其他有用的函数-3.5.2\"><span class=\"toc-item-num\">3.5.2&nbsp;&nbsp;</span>Other useful functions 其他有用的函数</a></span></li><li><span><a href=\"#Operation’s--performance-rank-in-Pandas-运算性能表现\" data-toc-modified-id=\"Operation’s--performance-rank-in-Pandas-运算性能表现-3.5.3\"><span class=\"toc-item-num\">3.5.3&nbsp;&nbsp;</span>Operation’s  performance rank in Pandas 运算性能表现</a></span></li></ul></li></ul></li></ul></div>"
   ]
  },
  {
   "cell_type": "markdown",
   "metadata": {},
   "source": [
    "# Motivation"
   ]
  },
  {
   "cell_type": "markdown",
   "metadata": {},
   "source": [
    "写这篇文章的目的是加强自己对pandas的理解。看过 Python for Data Analysis（pandas作者的书），各种pandas的函数， pandas和SQL的转换，但是经常出现这些问题：\n",
    "* 不知道用什么函数\n",
    "* 知道用什么函数但是不知道怎么调用，调参"
   ]
  },
  {
   "cell_type": "markdown",
   "metadata": {},
   "source": [
    "# Sturcture of this notebook"
   ]
  },
  {
   "cell_type": "markdown",
   "metadata": {},
   "source": [
    "这篇文章将从这几个方面总结pandas各种应用：\n",
    "1. **数据提取和筛选**\n",
    "2. **数据清理**\n",
    "3. **数据合并和聚合**\n",
    "4. **时间序列操作**\n",
    "5. **其他技巧**"
   ]
  },
  {
   "cell_type": "markdown",
   "metadata": {},
   "source": [
    "# Main"
   ]
  },
  {
   "cell_type": "code",
   "execution_count": 2,
   "metadata": {
    "ExecuteTime": {
     "end_time": "2020-02-20T22:32:18.129203Z",
     "start_time": "2020-02-20T22:32:17.440745Z"
    }
   },
   "outputs": [],
   "source": [
    "import numpy as np\n",
    "import pandas as pd"
   ]
  },
  {
   "cell_type": "code",
   "execution_count": 7,
   "metadata": {
    "ExecuteTime": {
     "end_time": "2020-02-20T22:42:29.161681Z",
     "start_time": "2020-02-20T22:42:29.146648Z"
    },
    "scrolled": true
   },
   "outputs": [
    {
     "data": {
      "text/html": [
       "<div>\n",
       "<style scoped>\n",
       "    .dataframe tbody tr th:only-of-type {\n",
       "        vertical-align: middle;\n",
       "    }\n",
       "\n",
       "    .dataframe tbody tr th {\n",
       "        vertical-align: top;\n",
       "    }\n",
       "\n",
       "    .dataframe thead th {\n",
       "        text-align: right;\n",
       "    }\n",
       "</style>\n",
       "<table border=\"1\" class=\"dataframe\">\n",
       "  <thead>\n",
       "    <tr style=\"text-align: right;\">\n",
       "      <th></th>\n",
       "      <th>height</th>\n",
       "      <th>weight</th>\n",
       "      <th>smoker</th>\n",
       "      <th>gender</th>\n",
       "      <th>age</th>\n",
       "      <th>color</th>\n",
       "    </tr>\n",
       "  </thead>\n",
       "  <tbody>\n",
       "    <tr>\n",
       "      <th>0</th>\n",
       "      <td>166</td>\n",
       "      <td>42</td>\n",
       "      <td>True</td>\n",
       "      <td>f</td>\n",
       "      <td>43</td>\n",
       "      <td>white</td>\n",
       "    </tr>\n",
       "    <tr>\n",
       "      <th>1</th>\n",
       "      <td>161</td>\n",
       "      <td>72</td>\n",
       "      <td>True</td>\n",
       "      <td>m</td>\n",
       "      <td>79</td>\n",
       "      <td>black</td>\n",
       "    </tr>\n",
       "    <tr>\n",
       "      <th>2</th>\n",
       "      <td>154</td>\n",
       "      <td>79</td>\n",
       "      <td>False</td>\n",
       "      <td>f</td>\n",
       "      <td>73</td>\n",
       "      <td>black</td>\n",
       "    </tr>\n",
       "    <tr>\n",
       "      <th>3</th>\n",
       "      <td>168</td>\n",
       "      <td>56</td>\n",
       "      <td>True</td>\n",
       "      <td>f</td>\n",
       "      <td>32</td>\n",
       "      <td>white</td>\n",
       "    </tr>\n",
       "    <tr>\n",
       "      <th>4</th>\n",
       "      <td>164</td>\n",
       "      <td>61</td>\n",
       "      <td>False</td>\n",
       "      <td>f</td>\n",
       "      <td>35</td>\n",
       "      <td>yellow</td>\n",
       "    </tr>\n",
       "  </tbody>\n",
       "</table>\n",
       "</div>"
      ],
      "text/plain": [
       "   height  weight  smoker gender  age   color\n",
       "0     166      42    True      f   43   white\n",
       "1     161      72    True      m   79   black\n",
       "2     154      79   False      f   73   black\n",
       "3     168      56    True      f   32   white\n",
       "4     164      61   False      f   35  yellow"
      ]
     },
     "execution_count": 7,
     "metadata": {},
     "output_type": "execute_result"
    }
   ],
   "source": [
    "boolean=[True,False]\n",
    "gender=[\"m\",\"f\"]\n",
    "color=[\"white\",\"black\",\"yellow\"]\n",
    "df=pd.DataFrame({\n",
    "    \"height\":np.random.randint(150,190,100),\n",
    "    \"weight\":np.random.randint(40,90,100),\n",
    "    \"smoker\":[boolean[x] for x in np.random.randint(0,2,100)],\n",
    "    \"gender\":[gender[x] for x in np.random.randint(0,2,100)],\n",
    "    \"age\":np.random.randint(15,90,100),\n",
    "    \"color\":[color[x] for x in np.random.randint(0,len(color),100) ]})\n",
    "df.head()"
   ]
  },
  {
   "cell_type": "markdown",
   "metadata": {
    "ExecuteTime": {
     "end_time": "2020-02-20T23:37:14.332394Z",
     "start_time": "2020-02-20T23:37:14.317294Z"
    }
   },
   "source": [
    "## Data Extraction 数据提取 "
   ]
  },
  {
   "cell_type": "markdown",
   "metadata": {},
   "source": [
    "### By Label 按标签提取(.loc)"
   ]
  },
  {
   "cell_type": "code",
   "execution_count": 14,
   "metadata": {
    "ExecuteTime": {
     "end_time": "2020-02-20T23:40:32.392191Z",
     "start_time": "2020-02-20T23:40:32.386271Z"
    }
   },
   "outputs": [
    {
     "data": {
      "text/plain": [
       "height      154\n",
       "weight       79\n",
       "smoker    False\n",
       "gender        f\n",
       "age          73\n",
       "color     black\n",
       "Name: 2, dtype: object"
      ]
     },
     "execution_count": 14,
     "metadata": {},
     "output_type": "execute_result"
    }
   ],
   "source": [
    "df.loc[2] # Get third row by index 2"
   ]
  },
  {
   "cell_type": "code",
   "execution_count": 16,
   "metadata": {
    "ExecuteTime": {
     "end_time": "2020-02-20T23:41:52.186025Z",
     "start_time": "2020-02-20T23:41:52.175814Z"
    }
   },
   "outputs": [
    {
     "data": {
      "text/html": [
       "<div>\n",
       "<style scoped>\n",
       "    .dataframe tbody tr th:only-of-type {\n",
       "        vertical-align: middle;\n",
       "    }\n",
       "\n",
       "    .dataframe tbody tr th {\n",
       "        vertical-align: top;\n",
       "    }\n",
       "\n",
       "    .dataframe thead th {\n",
       "        text-align: right;\n",
       "    }\n",
       "</style>\n",
       "<table border=\"1\" class=\"dataframe\">\n",
       "  <thead>\n",
       "    <tr style=\"text-align: right;\">\n",
       "      <th></th>\n",
       "      <th>height</th>\n",
       "      <th>weight</th>\n",
       "    </tr>\n",
       "  </thead>\n",
       "  <tbody>\n",
       "    <tr>\n",
       "      <th>0</th>\n",
       "      <td>166</td>\n",
       "      <td>42</td>\n",
       "    </tr>\n",
       "    <tr>\n",
       "      <th>1</th>\n",
       "      <td>161</td>\n",
       "      <td>72</td>\n",
       "    </tr>\n",
       "    <tr>\n",
       "      <th>2</th>\n",
       "      <td>154</td>\n",
       "      <td>79</td>\n",
       "    </tr>\n",
       "  </tbody>\n",
       "</table>\n",
       "</div>"
      ],
      "text/plain": [
       "   height  weight\n",
       "0     166      42\n",
       "1     161      72\n",
       "2     154      79"
      ]
     },
     "execution_count": 16,
     "metadata": {},
     "output_type": "execute_result"
    }
   ],
   "source": [
    "df.loc[:2, ['height','weight']]"
   ]
  },
  {
   "cell_type": "code",
   "execution_count": 20,
   "metadata": {
    "ExecuteTime": {
     "end_time": "2020-02-20T23:43:50.903464Z",
     "start_time": "2020-02-20T23:43:50.892738Z"
    }
   },
   "outputs": [
    {
     "data": {
      "text/html": [
       "<div>\n",
       "<style scoped>\n",
       "    .dataframe tbody tr th:only-of-type {\n",
       "        vertical-align: middle;\n",
       "    }\n",
       "\n",
       "    .dataframe tbody tr th {\n",
       "        vertical-align: top;\n",
       "    }\n",
       "\n",
       "    .dataframe thead th {\n",
       "        text-align: right;\n",
       "    }\n",
       "</style>\n",
       "<table border=\"1\" class=\"dataframe\">\n",
       "  <thead>\n",
       "    <tr style=\"text-align: right;\">\n",
       "      <th></th>\n",
       "      <th>height</th>\n",
       "      <th>weight</th>\n",
       "      <th>smoker</th>\n",
       "      <th>gender</th>\n",
       "      <th>age</th>\n",
       "      <th>color</th>\n",
       "    </tr>\n",
       "  </thead>\n",
       "  <tbody>\n",
       "    <tr>\n",
       "      <th>27</th>\n",
       "      <td>189</td>\n",
       "      <td>62</td>\n",
       "      <td>False</td>\n",
       "      <td>m</td>\n",
       "      <td>40</td>\n",
       "      <td>white</td>\n",
       "    </tr>\n",
       "    <tr>\n",
       "      <th>43</th>\n",
       "      <td>189</td>\n",
       "      <td>61</td>\n",
       "      <td>False</td>\n",
       "      <td>m</td>\n",
       "      <td>49</td>\n",
       "      <td>yellow</td>\n",
       "    </tr>\n",
       "    <tr>\n",
       "      <th>57</th>\n",
       "      <td>189</td>\n",
       "      <td>40</td>\n",
       "      <td>False</td>\n",
       "      <td>f</td>\n",
       "      <td>64</td>\n",
       "      <td>white</td>\n",
       "    </tr>\n",
       "    <tr>\n",
       "      <th>69</th>\n",
       "      <td>189</td>\n",
       "      <td>86</td>\n",
       "      <td>False</td>\n",
       "      <td>f</td>\n",
       "      <td>58</td>\n",
       "      <td>black</td>\n",
       "    </tr>\n",
       "  </tbody>\n",
       "</table>\n",
       "</div>"
      ],
      "text/plain": [
       "    height  weight  smoker gender  age   color\n",
       "27     189      62   False      m   40   white\n",
       "43     189      61   False      m   49  yellow\n",
       "57     189      40   False      f   64   white\n",
       "69     189      86   False      f   58   black"
      ]
     },
     "execution_count": 20,
     "metadata": {},
     "output_type": "execute_result"
    }
   ],
   "source": [
    "df.loc[df.height>188] # = df[df.height>188]"
   ]
  },
  {
   "cell_type": "markdown",
   "metadata": {},
   "source": [
    "### By Position 按位置提取(.iloc)"
   ]
  },
  {
   "cell_type": "code",
   "execution_count": 22,
   "metadata": {
    "ExecuteTime": {
     "end_time": "2020-02-20T23:45:17.946865Z",
     "start_time": "2020-02-20T23:45:17.936424Z"
    }
   },
   "outputs": [
    {
     "data": {
      "text/html": [
       "<div>\n",
       "<style scoped>\n",
       "    .dataframe tbody tr th:only-of-type {\n",
       "        vertical-align: middle;\n",
       "    }\n",
       "\n",
       "    .dataframe tbody tr th {\n",
       "        vertical-align: top;\n",
       "    }\n",
       "\n",
       "    .dataframe thead th {\n",
       "        text-align: right;\n",
       "    }\n",
       "</style>\n",
       "<table border=\"1\" class=\"dataframe\">\n",
       "  <thead>\n",
       "    <tr style=\"text-align: right;\">\n",
       "      <th></th>\n",
       "      <th>smoker</th>\n",
       "      <th>age</th>\n",
       "    </tr>\n",
       "  </thead>\n",
       "  <tbody>\n",
       "    <tr>\n",
       "      <th>0</th>\n",
       "      <td>True</td>\n",
       "      <td>43</td>\n",
       "    </tr>\n",
       "    <tr>\n",
       "      <th>1</th>\n",
       "      <td>True</td>\n",
       "      <td>79</td>\n",
       "    </tr>\n",
       "    <tr>\n",
       "      <th>2</th>\n",
       "      <td>False</td>\n",
       "      <td>73</td>\n",
       "    </tr>\n",
       "    <tr>\n",
       "      <th>3</th>\n",
       "      <td>True</td>\n",
       "      <td>32</td>\n",
       "    </tr>\n",
       "    <tr>\n",
       "      <th>4</th>\n",
       "      <td>False</td>\n",
       "      <td>35</td>\n",
       "    </tr>\n",
       "  </tbody>\n",
       "</table>\n",
       "</div>"
      ],
      "text/plain": [
       "   smoker  age\n",
       "0    True   43\n",
       "1    True   79\n",
       "2   False   73\n",
       "3    True   32\n",
       "4   False   35"
      ]
     },
     "execution_count": 22,
     "metadata": {},
     "output_type": "execute_result"
    }
   ],
   "source": [
    "df.iloc[:5,[2,4]] # Get first 5 rows, third and fifth column"
   ]
  },
  {
   "cell_type": "markdown",
   "metadata": {},
   "source": [
    "### By Boolean 布尔提取"
   ]
  },
  {
   "cell_type": "code",
   "execution_count": 8,
   "metadata": {
    "ExecuteTime": {
     "end_time": "2020-02-20T22:43:00.455591Z",
     "start_time": "2020-02-20T22:43:00.439510Z"
    },
    "scrolled": true
   },
   "outputs": [
    {
     "data": {
      "text/html": [
       "<div>\n",
       "<style scoped>\n",
       "    .dataframe tbody tr th:only-of-type {\n",
       "        vertical-align: middle;\n",
       "    }\n",
       "\n",
       "    .dataframe tbody tr th {\n",
       "        vertical-align: top;\n",
       "    }\n",
       "\n",
       "    .dataframe thead th {\n",
       "        text-align: right;\n",
       "    }\n",
       "</style>\n",
       "<table border=\"1\" class=\"dataframe\">\n",
       "  <thead>\n",
       "    <tr style=\"text-align: right;\">\n",
       "      <th></th>\n",
       "      <th>height</th>\n",
       "      <th>weight</th>\n",
       "      <th>smoker</th>\n",
       "      <th>gender</th>\n",
       "      <th>age</th>\n",
       "      <th>color</th>\n",
       "    </tr>\n",
       "  </thead>\n",
       "  <tbody>\n",
       "    <tr>\n",
       "      <th>13</th>\n",
       "      <td>180</td>\n",
       "      <td>47</td>\n",
       "      <td>True</td>\n",
       "      <td>m</td>\n",
       "      <td>33</td>\n",
       "      <td>white</td>\n",
       "    </tr>\n",
       "    <tr>\n",
       "      <th>16</th>\n",
       "      <td>186</td>\n",
       "      <td>50</td>\n",
       "      <td>True</td>\n",
       "      <td>m</td>\n",
       "      <td>32</td>\n",
       "      <td>white</td>\n",
       "    </tr>\n",
       "    <tr>\n",
       "      <th>24</th>\n",
       "      <td>182</td>\n",
       "      <td>57</td>\n",
       "      <td>False</td>\n",
       "      <td>m</td>\n",
       "      <td>50</td>\n",
       "      <td>white</td>\n",
       "    </tr>\n",
       "    <tr>\n",
       "      <th>27</th>\n",
       "      <td>189</td>\n",
       "      <td>62</td>\n",
       "      <td>False</td>\n",
       "      <td>m</td>\n",
       "      <td>40</td>\n",
       "      <td>white</td>\n",
       "    </tr>\n",
       "    <tr>\n",
       "      <th>30</th>\n",
       "      <td>172</td>\n",
       "      <td>85</td>\n",
       "      <td>True</td>\n",
       "      <td>m</td>\n",
       "      <td>54</td>\n",
       "      <td>white</td>\n",
       "    </tr>\n",
       "  </tbody>\n",
       "</table>\n",
       "</div>"
      ],
      "text/plain": [
       "    height  weight  smoker gender  age  color\n",
       "13     180      47    True      m   33  white\n",
       "16     186      50    True      m   32  white\n",
       "24     182      57   False      m   50  white\n",
       "27     189      62   False      m   40  white\n",
       "30     172      85    True      m   54  white"
      ]
     },
     "execution_count": 8,
     "metadata": {},
     "output_type": "execute_result"
    }
   ],
   "source": [
    "# Get white man's info\n",
    "df[(df.gender=='m') & (df.color=='white')].head() "
   ]
  },
  {
   "cell_type": "code",
   "execution_count": 10,
   "metadata": {
    "ExecuteTime": {
     "end_time": "2020-02-20T22:44:23.859963Z",
     "start_time": "2020-02-20T22:44:23.848371Z"
    },
    "scrolled": true
   },
   "outputs": [
    {
     "data": {
      "text/html": [
       "<div>\n",
       "<style scoped>\n",
       "    .dataframe tbody tr th:only-of-type {\n",
       "        vertical-align: middle;\n",
       "    }\n",
       "\n",
       "    .dataframe tbody tr th {\n",
       "        vertical-align: top;\n",
       "    }\n",
       "\n",
       "    .dataframe thead th {\n",
       "        text-align: right;\n",
       "    }\n",
       "</style>\n",
       "<table border=\"1\" class=\"dataframe\">\n",
       "  <thead>\n",
       "    <tr style=\"text-align: right;\">\n",
       "      <th></th>\n",
       "      <th>height</th>\n",
       "      <th>weight</th>\n",
       "      <th>smoker</th>\n",
       "      <th>gender</th>\n",
       "      <th>age</th>\n",
       "      <th>color</th>\n",
       "    </tr>\n",
       "  </thead>\n",
       "  <tbody>\n",
       "    <tr>\n",
       "      <th>0</th>\n",
       "      <td>166</td>\n",
       "      <td>42</td>\n",
       "      <td>True</td>\n",
       "      <td>f</td>\n",
       "      <td>43</td>\n",
       "      <td>white</td>\n",
       "    </tr>\n",
       "    <tr>\n",
       "      <th>1</th>\n",
       "      <td>161</td>\n",
       "      <td>72</td>\n",
       "      <td>True</td>\n",
       "      <td>m</td>\n",
       "      <td>79</td>\n",
       "      <td>black</td>\n",
       "    </tr>\n",
       "    <tr>\n",
       "      <th>2</th>\n",
       "      <td>154</td>\n",
       "      <td>79</td>\n",
       "      <td>False</td>\n",
       "      <td>f</td>\n",
       "      <td>73</td>\n",
       "      <td>black</td>\n",
       "    </tr>\n",
       "    <tr>\n",
       "      <th>3</th>\n",
       "      <td>168</td>\n",
       "      <td>56</td>\n",
       "      <td>True</td>\n",
       "      <td>f</td>\n",
       "      <td>32</td>\n",
       "      <td>white</td>\n",
       "    </tr>\n",
       "    <tr>\n",
       "      <th>5</th>\n",
       "      <td>164</td>\n",
       "      <td>60</td>\n",
       "      <td>True</td>\n",
       "      <td>f</td>\n",
       "      <td>49</td>\n",
       "      <td>white</td>\n",
       "    </tr>\n",
       "  </tbody>\n",
       "</table>\n",
       "</div>"
      ],
      "text/plain": [
       "   height  weight  smoker gender  age  color\n",
       "0     166      42    True      f   43  white\n",
       "1     161      72    True      m   79  black\n",
       "2     154      79   False      f   73  black\n",
       "3     168      56    True      f   32  white\n",
       "5     164      60    True      f   49  white"
      ]
     },
     "execution_count": 10,
     "metadata": {},
     "output_type": "execute_result"
    }
   ],
   "source": [
    "# Get white and black people info\n",
    "df[df.color.isin(['white','black'])].head()"
   ]
  },
  {
   "cell_type": "markdown",
   "metadata": {},
   "source": [
    "### Others"
   ]
  },
  {
   "cell_type": "code",
   "execution_count": 29,
   "metadata": {
    "ExecuteTime": {
     "end_time": "2020-02-20T23:53:24.213602Z",
     "start_time": "2020-02-20T23:53:24.208116Z"
    },
    "scrolled": true
   },
   "outputs": [
    {
     "data": {
      "text/plain": [
       "27    189\n",
       "43    189\n",
       "57    189\n",
       "69    189\n",
       "12    188\n",
       "26    188\n",
       "41    188\n",
       "75    188\n",
       "92    188\n",
       "96    188\n",
       "Name: height, dtype: int64"
      ]
     },
     "execution_count": 29,
     "metadata": {},
     "output_type": "execute_result"
    }
   ],
   "source": [
    "df.height.nlargest(10) # Get the largest n elements"
   ]
  },
  {
   "cell_type": "code",
   "execution_count": 35,
   "metadata": {
    "ExecuteTime": {
     "end_time": "2020-02-21T00:04:53.645380Z",
     "start_time": "2020-02-21T00:04:53.640213Z"
    }
   },
   "outputs": [
    {
     "data": {
      "text/plain": [
       "27"
      ]
     },
     "execution_count": 35,
     "metadata": {},
     "output_type": "execute_result"
    }
   ],
   "source": [
    "df.height.idxmax()"
   ]
  },
  {
   "cell_type": "code",
   "execution_count": 25,
   "metadata": {
    "ExecuteTime": {
     "end_time": "2020-02-20T23:51:49.173236Z",
     "start_time": "2020-02-20T23:51:49.161329Z"
    },
    "scrolled": true
   },
   "outputs": [
    {
     "data": {
      "text/html": [
       "<div>\n",
       "<style scoped>\n",
       "    .dataframe tbody tr th:only-of-type {\n",
       "        vertical-align: middle;\n",
       "    }\n",
       "\n",
       "    .dataframe tbody tr th {\n",
       "        vertical-align: top;\n",
       "    }\n",
       "\n",
       "    .dataframe thead th {\n",
       "        text-align: right;\n",
       "    }\n",
       "</style>\n",
       "<table border=\"1\" class=\"dataframe\">\n",
       "  <thead>\n",
       "    <tr style=\"text-align: right;\">\n",
       "      <th></th>\n",
       "      <th>height</th>\n",
       "      <th>weight</th>\n",
       "      <th>smoker</th>\n",
       "      <th>gender</th>\n",
       "      <th>age</th>\n",
       "      <th>color</th>\n",
       "    </tr>\n",
       "  </thead>\n",
       "  <tbody>\n",
       "    <tr>\n",
       "      <th>12</th>\n",
       "      <td>188</td>\n",
       "      <td>60</td>\n",
       "      <td>False</td>\n",
       "      <td>f</td>\n",
       "      <td>43</td>\n",
       "      <td>white</td>\n",
       "    </tr>\n",
       "    <tr>\n",
       "      <th>26</th>\n",
       "      <td>188</td>\n",
       "      <td>73</td>\n",
       "      <td>True</td>\n",
       "      <td>f</td>\n",
       "      <td>48</td>\n",
       "      <td>black</td>\n",
       "    </tr>\n",
       "    <tr>\n",
       "      <th>27</th>\n",
       "      <td>189</td>\n",
       "      <td>62</td>\n",
       "      <td>False</td>\n",
       "      <td>m</td>\n",
       "      <td>40</td>\n",
       "      <td>white</td>\n",
       "    </tr>\n",
       "    <tr>\n",
       "      <th>41</th>\n",
       "      <td>188</td>\n",
       "      <td>54</td>\n",
       "      <td>True</td>\n",
       "      <td>f</td>\n",
       "      <td>50</td>\n",
       "      <td>black</td>\n",
       "    </tr>\n",
       "    <tr>\n",
       "      <th>43</th>\n",
       "      <td>189</td>\n",
       "      <td>61</td>\n",
       "      <td>False</td>\n",
       "      <td>m</td>\n",
       "      <td>49</td>\n",
       "      <td>yellow</td>\n",
       "    </tr>\n",
       "    <tr>\n",
       "      <th>57</th>\n",
       "      <td>189</td>\n",
       "      <td>40</td>\n",
       "      <td>False</td>\n",
       "      <td>f</td>\n",
       "      <td>64</td>\n",
       "      <td>white</td>\n",
       "    </tr>\n",
       "    <tr>\n",
       "      <th>69</th>\n",
       "      <td>189</td>\n",
       "      <td>86</td>\n",
       "      <td>False</td>\n",
       "      <td>f</td>\n",
       "      <td>58</td>\n",
       "      <td>black</td>\n",
       "    </tr>\n",
       "    <tr>\n",
       "      <th>75</th>\n",
       "      <td>188</td>\n",
       "      <td>57</td>\n",
       "      <td>False</td>\n",
       "      <td>m</td>\n",
       "      <td>19</td>\n",
       "      <td>yellow</td>\n",
       "    </tr>\n",
       "    <tr>\n",
       "      <th>92</th>\n",
       "      <td>188</td>\n",
       "      <td>53</td>\n",
       "      <td>False</td>\n",
       "      <td>m</td>\n",
       "      <td>57</td>\n",
       "      <td>black</td>\n",
       "    </tr>\n",
       "    <tr>\n",
       "      <th>96</th>\n",
       "      <td>188</td>\n",
       "      <td>59</td>\n",
       "      <td>True</td>\n",
       "      <td>f</td>\n",
       "      <td>83</td>\n",
       "      <td>white</td>\n",
       "    </tr>\n",
       "  </tbody>\n",
       "</table>\n",
       "</div>"
      ],
      "text/plain": [
       "    height  weight  smoker gender  age   color\n",
       "12     188      60   False      f   43   white\n",
       "26     188      73    True      f   48   black\n",
       "27     189      62   False      m   40   white\n",
       "41     188      54    True      f   50   black\n",
       "43     189      61   False      m   49  yellow\n",
       "57     189      40   False      f   64   white\n",
       "69     189      86   False      f   58   black\n",
       "75     188      57   False      m   19  yellow\n",
       "92     188      53   False      m   57   black\n",
       "96     188      59    True      f   83   white"
      ]
     },
     "execution_count": 25,
     "metadata": {},
     "output_type": "execute_result"
    }
   ],
   "source": [
    "df[df.height.between(188,189)] # Interval, inclusive"
   ]
  },
  {
   "cell_type": "code",
   "execution_count": null,
   "metadata": {},
   "outputs": [],
   "source": [
    "df.column.str.findall() # regular expression applies here"
   ]
  },
  {
   "cell_type": "markdown",
   "metadata": {},
   "source": [
    "## Data Cleaning 数据清理"
   ]
  },
  {
   "cell_type": "markdown",
   "metadata": {},
   "source": [
    "### 检测并删除重复值"
   ]
  },
  {
   "cell_type": "code",
   "execution_count": 48,
   "metadata": {
    "ExecuteTime": {
     "end_time": "2020-02-21T14:18:48.374820Z",
     "start_time": "2020-02-21T14:18:48.322844Z"
    }
   },
   "outputs": [
    {
     "data": {
      "text/plain": [
       "0    False\n",
       "1    False\n",
       "2    False\n",
       "3     True\n",
       "4    False\n",
       "5    False\n",
       "6     True\n",
       "dtype: bool"
      ]
     },
     "execution_count": 48,
     "metadata": {},
     "output_type": "execute_result"
    }
   ],
   "source": [
    "s = pd.Series([1,2,3,3,4,5,5])\n",
    "s.duplicated()"
   ]
  },
  {
   "cell_type": "code",
   "execution_count": 49,
   "metadata": {
    "ExecuteTime": {
     "end_time": "2020-02-21T14:19:02.026060Z",
     "start_time": "2020-02-21T14:19:01.999164Z"
    }
   },
   "outputs": [
    {
     "data": {
      "text/plain": [
       "0    1\n",
       "1    2\n",
       "2    3\n",
       "4    4\n",
       "5    5\n",
       "dtype: int64"
      ]
     },
     "execution_count": 49,
     "metadata": {},
     "output_type": "execute_result"
    }
   ],
   "source": [
    "s.drop_duplicates()"
   ]
  },
  {
   "cell_type": "markdown",
   "metadata": {},
   "source": [
    "### 检测/填补/删除空缺值"
   ]
  },
  {
   "cell_type": "code",
   "execution_count": 50,
   "metadata": {
    "ExecuteTime": {
     "end_time": "2020-02-21T14:20:26.028154Z",
     "start_time": "2020-02-21T14:20:26.019407Z"
    },
    "scrolled": true
   },
   "outputs": [
    {
     "data": {
      "text/plain": [
       "0    False\n",
       "1     True\n",
       "2    False\n",
       "3     True\n",
       "4    False\n",
       "dtype: bool"
      ]
     },
     "execution_count": 50,
     "metadata": {},
     "output_type": "execute_result"
    }
   ],
   "source": [
    "s = pd.Series([1,np.nan,3,np.nan,5])\n",
    "s.isnull() # s.notnull()\n",
    "# s.hasnans() return 1 ture/false"
   ]
  },
  {
   "cell_type": "code",
   "execution_count": 51,
   "metadata": {
    "ExecuteTime": {
     "end_time": "2020-02-21T14:22:21.574547Z",
     "start_time": "2020-02-21T14:22:21.531750Z"
    }
   },
   "outputs": [
    {
     "data": {
      "text/plain": [
       "0    1.0\n",
       "1    3.0\n",
       "2    3.0\n",
       "3    3.0\n",
       "4    5.0\n",
       "dtype: float64"
      ]
     },
     "execution_count": 51,
     "metadata": {},
     "output_type": "execute_result"
    }
   ],
   "source": [
    "s.fillna(s.mean())"
   ]
  },
  {
   "cell_type": "code",
   "execution_count": 52,
   "metadata": {
    "ExecuteTime": {
     "end_time": "2020-02-21T14:22:56.372161Z",
     "start_time": "2020-02-21T14:22:56.362924Z"
    }
   },
   "outputs": [
    {
     "data": {
      "text/plain": [
       "0    1.0\n",
       "2    3.0\n",
       "4    5.0\n",
       "dtype: float64"
      ]
     },
     "execution_count": 52,
     "metadata": {},
     "output_type": "execute_result"
    }
   ],
   "source": [
    "s.dropna()"
   ]
  },
  {
   "cell_type": "markdown",
   "metadata": {},
   "source": [
    "### 文本处理 text cleanning"
   ]
  },
  {
   "cell_type": "code",
   "execution_count": 160,
   "metadata": {
    "ExecuteTime": {
     "end_time": "2020-02-21T20:29:01.678581Z",
     "start_time": "2020-02-21T20:29:01.669603Z"
    },
    "scrolled": true
   },
   "outputs": [
    {
     "data": {
      "text/html": [
       "<div>\n",
       "<style scoped>\n",
       "    .dataframe tbody tr th:only-of-type {\n",
       "        vertical-align: middle;\n",
       "    }\n",
       "\n",
       "    .dataframe tbody tr th {\n",
       "        vertical-align: top;\n",
       "    }\n",
       "\n",
       "    .dataframe thead th {\n",
       "        text-align: right;\n",
       "    }\n",
       "</style>\n",
       "<table border=\"1\" class=\"dataframe\">\n",
       "  <thead>\n",
       "    <tr style=\"text-align: right;\">\n",
       "      <th></th>\n",
       "      <th>ID</th>\n",
       "      <th>Area</th>\n",
       "    </tr>\n",
       "  </thead>\n",
       "  <tbody>\n",
       "    <tr>\n",
       "      <th>0</th>\n",
       "      <td>1:0</td>\n",
       "      <td>A</td>\n",
       "    </tr>\n",
       "    <tr>\n",
       "      <th>1</th>\n",
       "      <td>2:1</td>\n",
       "      <td>B</td>\n",
       "    </tr>\n",
       "    <tr>\n",
       "      <th>2</th>\n",
       "      <td>3:1</td>\n",
       "      <td>C</td>\n",
       "    </tr>\n",
       "    <tr>\n",
       "      <th>3</th>\n",
       "      <td>4:0</td>\n",
       "      <td>B</td>\n",
       "    </tr>\n",
       "    <tr>\n",
       "      <th>4</th>\n",
       "      <td>5:1</td>\n",
       "      <td>a</td>\n",
       "    </tr>\n",
       "  </tbody>\n",
       "</table>\n",
       "</div>"
      ],
      "text/plain": [
       "    ID Area\n",
       "0  1:0   A \n",
       "1  2:1    B\n",
       "2  3:1    C\n",
       "3  4:0  B  \n",
       "4  5:1    a"
      ]
     },
     "execution_count": 160,
     "metadata": {},
     "output_type": "execute_result"
    }
   ],
   "source": [
    "s = pd.DataFrame(\n",
    "{\n",
    "    'ID':['1:0','2:1','3:1','4:0','5:1'], # ID and genger are sticked together\n",
    "    'Area':['A ', 'B', ' C', 'B  ','a'] # while space and lower-case letter\n",
    "})\n",
    "s"
   ]
  },
  {
   "cell_type": "markdown",
   "metadata": {},
   "source": [
    "#### 去除空白"
   ]
  },
  {
   "cell_type": "code",
   "execution_count": 161,
   "metadata": {
    "ExecuteTime": {
     "end_time": "2020-02-21T20:29:13.346665Z",
     "start_time": "2020-02-21T20:29:13.341498Z"
    }
   },
   "outputs": [
    {
     "data": {
      "text/plain": [
       "0     A \n",
       "1      B\n",
       "2      C\n",
       "3    B  \n",
       "4      a\n",
       "Name: Area, dtype: object"
      ]
     },
     "execution_count": 161,
     "metadata": {},
     "output_type": "execute_result"
    }
   ],
   "source": [
    "s.Area"
   ]
  },
  {
   "cell_type": "code",
   "execution_count": 162,
   "metadata": {
    "ExecuteTime": {
     "end_time": "2020-02-21T20:29:14.434859Z",
     "start_time": "2020-02-21T20:29:14.428829Z"
    }
   },
   "outputs": [
    {
     "data": {
      "text/plain": [
       "0    A\n",
       "1    B\n",
       "2    C\n",
       "3    B\n",
       "4    a\n",
       "Name: Area, dtype: object"
      ]
     },
     "execution_count": 162,
     "metadata": {},
     "output_type": "execute_result"
    }
   ],
   "source": [
    "s.Area = s.Area.apply(str.strip)\n",
    "s.Area"
   ]
  },
  {
   "cell_type": "markdown",
   "metadata": {},
   "source": [
    "#### 分列"
   ]
  },
  {
   "cell_type": "code",
   "execution_count": 163,
   "metadata": {
    "ExecuteTime": {
     "end_time": "2020-02-21T20:29:20.964097Z",
     "start_time": "2020-02-21T20:29:20.955433Z"
    },
    "scrolled": true
   },
   "outputs": [
    {
     "data": {
      "text/html": [
       "<div>\n",
       "<style scoped>\n",
       "    .dataframe tbody tr th:only-of-type {\n",
       "        vertical-align: middle;\n",
       "    }\n",
       "\n",
       "    .dataframe tbody tr th {\n",
       "        vertical-align: top;\n",
       "    }\n",
       "\n",
       "    .dataframe thead th {\n",
       "        text-align: right;\n",
       "    }\n",
       "</style>\n",
       "<table border=\"1\" class=\"dataframe\">\n",
       "  <thead>\n",
       "    <tr style=\"text-align: right;\">\n",
       "      <th></th>\n",
       "      <th>ID</th>\n",
       "      <th>Gender</th>\n",
       "    </tr>\n",
       "  </thead>\n",
       "  <tbody>\n",
       "    <tr>\n",
       "      <th>0</th>\n",
       "      <td>1</td>\n",
       "      <td>0</td>\n",
       "    </tr>\n",
       "    <tr>\n",
       "      <th>1</th>\n",
       "      <td>2</td>\n",
       "      <td>1</td>\n",
       "    </tr>\n",
       "    <tr>\n",
       "      <th>2</th>\n",
       "      <td>3</td>\n",
       "      <td>1</td>\n",
       "    </tr>\n",
       "    <tr>\n",
       "      <th>3</th>\n",
       "      <td>4</td>\n",
       "      <td>0</td>\n",
       "    </tr>\n",
       "    <tr>\n",
       "      <th>4</th>\n",
       "      <td>5</td>\n",
       "      <td>1</td>\n",
       "    </tr>\n",
       "  </tbody>\n",
       "</table>\n",
       "</div>"
      ],
      "text/plain": [
       "  ID Gender\n",
       "0  1      0\n",
       "1  2      1\n",
       "2  3      1\n",
       "3  4      0\n",
       "4  5      1"
      ]
     },
     "execution_count": 163,
     "metadata": {},
     "output_type": "execute_result"
    }
   ],
   "source": [
    "id_gender = pd.DataFrame((x.split(':') for x in s.ID),columns=['ID','Gender'], index=s.index)\n",
    "id_gender"
   ]
  },
  {
   "cell_type": "code",
   "execution_count": 164,
   "metadata": {
    "ExecuteTime": {
     "end_time": "2020-02-21T20:29:22.954117Z",
     "start_time": "2020-02-21T20:29:22.944519Z"
    }
   },
   "outputs": [
    {
     "data": {
      "text/html": [
       "<div>\n",
       "<style scoped>\n",
       "    .dataframe tbody tr th:only-of-type {\n",
       "        vertical-align: middle;\n",
       "    }\n",
       "\n",
       "    .dataframe tbody tr th {\n",
       "        vertical-align: top;\n",
       "    }\n",
       "\n",
       "    .dataframe thead th {\n",
       "        text-align: right;\n",
       "    }\n",
       "</style>\n",
       "<table border=\"1\" class=\"dataframe\">\n",
       "  <thead>\n",
       "    <tr style=\"text-align: right;\">\n",
       "      <th></th>\n",
       "      <th>ID</th>\n",
       "      <th>Gender</th>\n",
       "      <th>Area</th>\n",
       "    </tr>\n",
       "  </thead>\n",
       "  <tbody>\n",
       "    <tr>\n",
       "      <th>0</th>\n",
       "      <td>1</td>\n",
       "      <td>0</td>\n",
       "      <td>A</td>\n",
       "    </tr>\n",
       "    <tr>\n",
       "      <th>1</th>\n",
       "      <td>2</td>\n",
       "      <td>1</td>\n",
       "      <td>B</td>\n",
       "    </tr>\n",
       "    <tr>\n",
       "      <th>2</th>\n",
       "      <td>3</td>\n",
       "      <td>1</td>\n",
       "      <td>C</td>\n",
       "    </tr>\n",
       "    <tr>\n",
       "      <th>3</th>\n",
       "      <td>4</td>\n",
       "      <td>0</td>\n",
       "      <td>B</td>\n",
       "    </tr>\n",
       "    <tr>\n",
       "      <th>4</th>\n",
       "      <td>5</td>\n",
       "      <td>1</td>\n",
       "      <td>a</td>\n",
       "    </tr>\n",
       "  </tbody>\n",
       "</table>\n",
       "</div>"
      ],
      "text/plain": [
       "  ID Gender Area\n",
       "0  1      0    A\n",
       "1  2      1    B\n",
       "2  3      1    C\n",
       "3  4      0    B\n",
       "4  5      1    a"
      ]
     },
     "execution_count": 164,
     "metadata": {},
     "output_type": "execute_result"
    }
   ],
   "source": [
    "s = id_gender.merge(s.drop('ID',axis=1),left_index=True, right_index=True )\n",
    "s"
   ]
  },
  {
   "cell_type": "markdown",
   "metadata": {},
   "source": [
    "#### 大小写"
   ]
  },
  {
   "cell_type": "code",
   "execution_count": 165,
   "metadata": {
    "ExecuteTime": {
     "end_time": "2020-02-21T20:29:25.453703Z",
     "start_time": "2020-02-21T20:29:25.450669Z"
    }
   },
   "outputs": [],
   "source": [
    "s.Area = s.Area.str.upper()"
   ]
  },
  {
   "cell_type": "markdown",
   "metadata": {},
   "source": [
    "#### replace 替换"
   ]
  },
  {
   "cell_type": "code",
   "execution_count": null,
   "metadata": {},
   "outputs": [],
   "source": [
    "# df.column = df.column.replace(value_to_replace, new_value)"
   ]
  },
  {
   "cell_type": "markdown",
   "metadata": {},
   "source": [
    "#### 正则表达式"
   ]
  },
  {
   "cell_type": "markdown",
   "metadata": {},
   "source": [
    "### 变量变换"
   ]
  },
  {
   "cell_type": "markdown",
   "metadata": {},
   "source": [
    "#### 数据映射"
   ]
  },
  {
   "cell_type": "code",
   "execution_count": 167,
   "metadata": {
    "ExecuteTime": {
     "end_time": "2020-02-21T20:29:36.202218Z",
     "start_time": "2020-02-21T20:29:36.196104Z"
    }
   },
   "outputs": [
    {
     "data": {
      "text/plain": [
       "0      Anhui\n",
       "1     Bejing\n",
       "2    Chengdu\n",
       "3     Bejing\n",
       "4      Anhui\n",
       "Name: Area, dtype: object"
      ]
     },
     "execution_count": 167,
     "metadata": {},
     "output_type": "execute_result"
    }
   ],
   "source": [
    "letter_to_city={'A':'Anhui', 'B':'Bejing','C':'Chengdu'}\n",
    "s.Area = s.Area.map(letter_to_city)\n",
    "s.Area"
   ]
  },
  {
   "cell_type": "markdown",
   "metadata": {},
   "source": [
    "#### 数据类型变换"
   ]
  },
  {
   "cell_type": "code",
   "execution_count": 168,
   "metadata": {
    "ExecuteTime": {
     "end_time": "2020-02-21T20:38:49.132969Z",
     "start_time": "2020-02-21T20:38:49.109583Z"
    },
    "scrolled": false
   },
   "outputs": [
    {
     "data": {
      "text/plain": [
       "0    1\n",
       "1    2\n",
       "2    3\n",
       "3    4\n",
       "4    5\n",
       "Name: ID, dtype: object"
      ]
     },
     "execution_count": 168,
     "metadata": {},
     "output_type": "execute_result"
    }
   ],
   "source": [
    "s.ID.astype('object') # 'int'/'float'"
   ]
  },
  {
   "cell_type": "markdown",
   "metadata": {},
   "source": [
    "#### 分组"
   ]
  },
  {
   "cell_type": "code",
   "execution_count": 172,
   "metadata": {
    "ExecuteTime": {
     "end_time": "2020-02-21T20:47:29.657534Z",
     "start_time": "2020-02-21T20:47:29.649319Z"
    },
    "scrolled": true
   },
   "outputs": [
    {
     "data": {
      "text/plain": [
       "0    normal\n",
       "1    normal\n",
       "2     short\n",
       "3    normal\n",
       "4    normal\n",
       "Name: height, dtype: category\n",
       "Categories (3, object): [short < normal < tall]"
      ]
     },
     "execution_count": 172,
     "metadata": {},
     "output_type": "execute_result"
    }
   ],
   "source": [
    "# customize bins\n",
    "height_cut_point = [-np.inf,155,185,np.inf]\n",
    "height_labels = ['short','normal','tall']\n",
    "pd.cut(df.height,height_cut_point,labels = height_labels).head()"
   ]
  },
  {
   "cell_type": "code",
   "execution_count": 173,
   "metadata": {
    "ExecuteTime": {
     "end_time": "2020-02-21T20:49:58.453280Z",
     "start_time": "2020-02-21T20:49:58.441313Z"
    }
   },
   "outputs": [
    {
     "data": {
      "text/plain": [
       "0    normal\n",
       "1     short\n",
       "2     short\n",
       "3    normal\n",
       "4     short\n",
       "Name: height, dtype: category\n",
       "Categories (3, object): [short < normal < tall]"
      ]
     },
     "execution_count": 173,
     "metadata": {},
     "output_type": "execute_result"
    }
   ],
   "source": [
    "# use quantile 分位数\n",
    "pd.qcut(df.height,3,labels=height_labels).head()"
   ]
  },
  {
   "cell_type": "markdown",
   "metadata": {},
   "source": [
    "#### Dummy variable 哑变量"
   ]
  },
  {
   "cell_type": "code",
   "execution_count": 176,
   "metadata": {
    "ExecuteTime": {
     "end_time": "2020-02-21T20:51:54.603657Z",
     "start_time": "2020-02-21T20:51:54.595824Z"
    }
   },
   "outputs": [
    {
     "data": {
      "text/html": [
       "<div>\n",
       "<style scoped>\n",
       "    .dataframe tbody tr th:only-of-type {\n",
       "        vertical-align: middle;\n",
       "    }\n",
       "\n",
       "    .dataframe tbody tr th {\n",
       "        vertical-align: top;\n",
       "    }\n",
       "\n",
       "    .dataframe thead th {\n",
       "        text-align: right;\n",
       "    }\n",
       "</style>\n",
       "<table border=\"1\" class=\"dataframe\">\n",
       "  <thead>\n",
       "    <tr style=\"text-align: right;\">\n",
       "      <th></th>\n",
       "      <th>smoker__False</th>\n",
       "      <th>smoker__True</th>\n",
       "    </tr>\n",
       "  </thead>\n",
       "  <tbody>\n",
       "    <tr>\n",
       "      <th>0</th>\n",
       "      <td>0</td>\n",
       "      <td>1</td>\n",
       "    </tr>\n",
       "    <tr>\n",
       "      <th>1</th>\n",
       "      <td>0</td>\n",
       "      <td>1</td>\n",
       "    </tr>\n",
       "    <tr>\n",
       "      <th>2</th>\n",
       "      <td>1</td>\n",
       "      <td>0</td>\n",
       "    </tr>\n",
       "    <tr>\n",
       "      <th>3</th>\n",
       "      <td>0</td>\n",
       "      <td>1</td>\n",
       "    </tr>\n",
       "    <tr>\n",
       "      <th>4</th>\n",
       "      <td>1</td>\n",
       "      <td>0</td>\n",
       "    </tr>\n",
       "  </tbody>\n",
       "</table>\n",
       "</div>"
      ],
      "text/plain": [
       "   smoker__False  smoker__True\n",
       "0              0             1\n",
       "1              0             1\n",
       "2              1             0\n",
       "3              0             1\n",
       "4              1             0"
      ]
     },
     "execution_count": 176,
     "metadata": {},
     "output_type": "execute_result"
    }
   ],
   "source": [
    "pd.get_dummies(df.smoker,prefix='smoker_').head()"
   ]
  },
  {
   "cell_type": "markdown",
   "metadata": {},
   "source": [
    "**进阶** -多选题"
   ]
  },
  {
   "cell_type": "code",
   "execution_count": 180,
   "metadata": {
    "ExecuteTime": {
     "end_time": "2020-02-21T20:55:46.323359Z",
     "start_time": "2020-02-21T20:55:46.267150Z"
    }
   },
   "outputs": [
    {
     "data": {
      "text/html": [
       "<div>\n",
       "<style scoped>\n",
       "    .dataframe tbody tr th:only-of-type {\n",
       "        vertical-align: middle;\n",
       "    }\n",
       "\n",
       "    .dataframe tbody tr th {\n",
       "        vertical-align: top;\n",
       "    }\n",
       "\n",
       "    .dataframe thead th {\n",
       "        text-align: right;\n",
       "    }\n",
       "</style>\n",
       "<table border=\"1\" class=\"dataframe\">\n",
       "  <thead>\n",
       "    <tr style=\"text-align: right;\">\n",
       "      <th></th>\n",
       "      <th>MCQ_1</th>\n",
       "      <th>MCQ_1_A</th>\n",
       "      <th>MCQ_1_B</th>\n",
       "      <th>MCQ_1_C</th>\n",
       "    </tr>\n",
       "  </thead>\n",
       "  <tbody>\n",
       "    <tr>\n",
       "      <th>0</th>\n",
       "      <td>A,B,C</td>\n",
       "      <td>True</td>\n",
       "      <td>True</td>\n",
       "      <td>True</td>\n",
       "    </tr>\n",
       "    <tr>\n",
       "      <th>1</th>\n",
       "      <td>B,C</td>\n",
       "      <td>False</td>\n",
       "      <td>True</td>\n",
       "      <td>True</td>\n",
       "    </tr>\n",
       "    <tr>\n",
       "      <th>2</th>\n",
       "      <td>A,C</td>\n",
       "      <td>True</td>\n",
       "      <td>False</td>\n",
       "      <td>True</td>\n",
       "    </tr>\n",
       "  </tbody>\n",
       "</table>\n",
       "</div>"
      ],
      "text/plain": [
       "   MCQ_1  MCQ_1_A  MCQ_1_B  MCQ_1_C\n",
       "0  A,B,C     True     True     True\n",
       "1    B,C    False     True     True\n",
       "2    A,C     True    False     True"
      ]
     },
     "execution_count": 180,
     "metadata": {},
     "output_type": "execute_result"
    }
   ],
   "source": [
    "tmp = pd.DataFrame({'MCQ_1':['A,B,C','B,C','A,C']})\n",
    "tmp['MCQ_1_A'] = tmp.MCQ_1.str.contains('A')\n",
    "tmp['MCQ_1_B'] = tmp.MCQ_1.str.contains('B')\n",
    "tmp['MCQ_1_C'] = tmp.MCQ_1.str.contains('C')\n",
    "tmp"
   ]
  },
  {
   "cell_type": "markdown",
   "metadata": {},
   "source": [
    "#### 更改列名"
   ]
  },
  {
   "cell_type": "code",
   "execution_count": null,
   "metadata": {},
   "outputs": [],
   "source": [
    "# df.columns = [new_list_of_columns]"
   ]
  },
  {
   "cell_type": "markdown",
   "metadata": {
    "ExecuteTime": {
     "end_time": "2020-02-21T00:14:45.694162Z",
     "start_time": "2020-02-21T00:14:45.691246Z"
    }
   },
   "source": [
    "### Others"
   ]
  },
  {
   "cell_type": "markdown",
   "metadata": {},
   "source": [
    "## 数据合并和聚合"
   ]
  },
  {
   "cell_type": "markdown",
   "metadata": {},
   "source": [
    "### Merge/Join 横向合并 "
   ]
  },
  {
   "cell_type": "code",
   "execution_count": 68,
   "metadata": {
    "ExecuteTime": {
     "end_time": "2020-02-21T15:34:52.966159Z",
     "start_time": "2020-02-21T15:34:52.961933Z"
    },
    "scrolled": false
   },
   "outputs": [
    {
     "data": {
      "text/plain": [
       "\"\\npd.merge(df1, df2, on='key' , how='inner/left/right/outer' )\\n\\n==\\n\\nselect *\\nfrom df1\\n(left/right/full) join df2\\non df1.key = df2.key\\n\""
      ]
     },
     "execution_count": 68,
     "metadata": {},
     "output_type": "execute_result"
    }
   ],
   "source": [
    "\"\"\"\n",
    "pd.merge(df1, df2, on='key' , how='inner/left/right/outer' )\n",
    "\n",
    "==\n",
    "df1.join(df2, )\n",
    "select *\n",
    "from df1\n",
    "(left/right/full) join df2\n",
    "on df1.key = df2.key\n",
    "\n",
    "\n",
    "\"\"\""
   ]
  },
  {
   "cell_type": "markdown",
   "metadata": {},
   "source": [
    "#### Note 1: keys of 2 table are different"
   ]
  },
  {
   "cell_type": "code",
   "execution_count": null,
   "metadata": {},
   "outputs": [],
   "source": [
    "# pd.merge(df1, df2, left_on='left_key', right_on='right_key' how='inner/left/right/outer' )"
   ]
  },
  {
   "cell_type": "markdown",
   "metadata": {},
   "source": [
    "#### Note 2: Duplicated column names 列名重复"
   ]
  },
  {
   "cell_type": "code",
   "execution_count": null,
   "metadata": {},
   "outputs": [],
   "source": [
    "# 添加suffixes即可\n",
    "# pd.merge(df1,df2,on='key', suffixes=('_left','_right'))"
   ]
  },
  {
   "cell_type": "markdown",
   "metadata": {},
   "source": [
    "#### Note 3: merge by index"
   ]
  },
  {
   "cell_type": "code",
   "execution_count": null,
   "metadata": {},
   "outputs": [],
   "source": [
    "# 用左表的primary key和右表 index链接\n",
    "# pd.merger(df1, df2, left_on='left_key', right_index=True)"
   ]
  },
  {
   "cell_type": "markdown",
   "metadata": {},
   "source": [
    "### Concatenate 纵向堆叠"
   ]
  },
  {
   "cell_type": "code",
   "execution_count": null,
   "metadata": {},
   "outputs": [],
   "source": [
    "\"\"\"\n",
    "pd.concat([df1,df2], axis = 0/1, keys=['df1','df2'])\n",
    "\n",
    "axis = 0: concatenate vertically 纵向堆叠\n",
    "keys： identify which part of the table from df1/df2 表明哪部分来自哪个表\n",
    "\"\"\""
   ]
  },
  {
   "cell_type": "markdown",
   "metadata": {},
   "source": [
    "### Data Aggregation 聚合 "
   ]
  },
  {
   "cell_type": "markdown",
   "metadata": {
    "ExecuteTime": {
     "end_time": "2020-02-21T16:20:10.802113Z",
     "start_time": "2020-02-21T16:20:10.799749Z"
    }
   },
   "source": [
    "#### Group By"
   ]
  },
  {
   "cell_type": "code",
   "execution_count": 77,
   "metadata": {
    "ExecuteTime": {
     "end_time": "2020-02-21T16:18:47.830903Z",
     "start_time": "2020-02-21T16:18:47.758506Z"
    }
   },
   "outputs": [
    {
     "data": {
      "text/html": [
       "<div>\n",
       "<style scoped>\n",
       "    .dataframe tbody tr th:only-of-type {\n",
       "        vertical-align: middle;\n",
       "    }\n",
       "\n",
       "    .dataframe tbody tr th {\n",
       "        vertical-align: top;\n",
       "    }\n",
       "\n",
       "    .dataframe thead th {\n",
       "        text-align: right;\n",
       "    }\n",
       "</style>\n",
       "<table border=\"1\" class=\"dataframe\">\n",
       "  <thead>\n",
       "    <tr style=\"text-align: right;\">\n",
       "      <th></th>\n",
       "      <th></th>\n",
       "      <th>height</th>\n",
       "      <th>weight</th>\n",
       "    </tr>\n",
       "    <tr>\n",
       "      <th>gender</th>\n",
       "      <th>smoker</th>\n",
       "      <th></th>\n",
       "      <th></th>\n",
       "    </tr>\n",
       "  </thead>\n",
       "  <tbody>\n",
       "    <tr>\n",
       "      <th rowspan=\"2\" valign=\"top\">f</th>\n",
       "      <th>False</th>\n",
       "      <td>172.130435</td>\n",
       "      <td>66.565217</td>\n",
       "    </tr>\n",
       "    <tr>\n",
       "      <th>True</th>\n",
       "      <td>172.478261</td>\n",
       "      <td>66.304348</td>\n",
       "    </tr>\n",
       "    <tr>\n",
       "      <th rowspan=\"2\" valign=\"top\">m</th>\n",
       "      <th>False</th>\n",
       "      <td>173.200000</td>\n",
       "      <td>66.600000</td>\n",
       "    </tr>\n",
       "    <tr>\n",
       "      <th>True</th>\n",
       "      <td>169.291667</td>\n",
       "      <td>60.375000</td>\n",
       "    </tr>\n",
       "  </tbody>\n",
       "</table>\n",
       "</div>"
      ],
      "text/plain": [
       "                   height     weight\n",
       "gender smoker                       \n",
       "f      False   172.130435  66.565217\n",
       "       True    172.478261  66.304348\n",
       "m      False   173.200000  66.600000\n",
       "       True    169.291667  60.375000"
      ]
     },
     "execution_count": 77,
     "metadata": {},
     "output_type": "execute_result"
    }
   ],
   "source": [
    "# apply mean() method to selected columns\n",
    "df.groupby(['gender','smoker'])['height','weight'].mean()"
   ]
  },
  {
   "cell_type": "markdown",
   "metadata": {},
   "source": [
    "**进阶用法**\n",
    "\n",
    "Apply specific/customized function to specific column(s)\n",
    "对指定列使用指定函数（包括对指定某一列使用多个指定/定制函数）- df.groupby.agg()"
   ]
  },
  {
   "cell_type": "code",
   "execution_count": 91,
   "metadata": {
    "ExecuteTime": {
     "end_time": "2020-02-21T16:34:19.327072Z",
     "start_time": "2020-02-21T16:34:19.324343Z"
    }
   },
   "outputs": [],
   "source": [
    "# Turn unit of weight from kg to jin and lbs\n",
    "def kg_to_jin(x):\n",
    "    return round((2*x).mean(),2)\n",
    "kg_to_lbs = lambda x: round((x*2.205).mean(),2)b"
   ]
  },
  {
   "cell_type": "code",
   "execution_count": 100,
   "metadata": {
    "ExecuteTime": {
     "end_time": "2020-02-21T16:41:05.971491Z",
     "start_time": "2020-02-21T16:41:05.948732Z"
    },
    "scrolled": false
   },
   "outputs": [
    {
     "data": {
      "text/html": [
       "<div>\n",
       "<style scoped>\n",
       "    .dataframe tbody tr th:only-of-type {\n",
       "        vertical-align: middle;\n",
       "    }\n",
       "\n",
       "    .dataframe tbody tr th {\n",
       "        vertical-align: top;\n",
       "    }\n",
       "\n",
       "    .dataframe thead th {\n",
       "        text-align: right;\n",
       "    }\n",
       "</style>\n",
       "<table border=\"1\" class=\"dataframe\">\n",
       "  <thead>\n",
       "    <tr style=\"text-align: right;\">\n",
       "      <th></th>\n",
       "      <th>gender</th>\n",
       "      <th>smoker</th>\n",
       "      <th>jin</th>\n",
       "      <th>lbs</th>\n",
       "    </tr>\n",
       "  </thead>\n",
       "  <tbody>\n",
       "    <tr>\n",
       "      <th>0</th>\n",
       "      <td>f</td>\n",
       "      <td>False</td>\n",
       "      <td>133.13</td>\n",
       "      <td>146.78</td>\n",
       "    </tr>\n",
       "    <tr>\n",
       "      <th>1</th>\n",
       "      <td>f</td>\n",
       "      <td>True</td>\n",
       "      <td>132.61</td>\n",
       "      <td>146.20</td>\n",
       "    </tr>\n",
       "    <tr>\n",
       "      <th>2</th>\n",
       "      <td>m</td>\n",
       "      <td>False</td>\n",
       "      <td>133.20</td>\n",
       "      <td>146.85</td>\n",
       "    </tr>\n",
       "    <tr>\n",
       "      <th>3</th>\n",
       "      <td>m</td>\n",
       "      <td>True</td>\n",
       "      <td>120.75</td>\n",
       "      <td>133.13</td>\n",
       "    </tr>\n",
       "  </tbody>\n",
       "</table>\n",
       "</div>"
      ],
      "text/plain": [
       "  gender  smoker     jin     lbs\n",
       "0      f   False  133.13  146.78\n",
       "1      f    True  132.61  146.20\n",
       "2      m   False  133.20  146.85\n",
       "3      m    True  120.75  133.13"
      ]
     },
     "execution_count": 100,
     "metadata": {},
     "output_type": "execute_result"
    }
   ],
   "source": [
    "s_agg = df.groupby(['gender','smoker']).agg({\n",
    "        'weight':[kg_to_jin,kg_to_lbs]\n",
    "    })['weight'].reset_index()\n",
    "s_agg.columns=['gender','smoker','jin','lbs']\n",
    "s_agg"
   ]
  },
  {
   "cell_type": "markdown",
   "metadata": {},
   "source": [
    "**Other functions 其他常用加总函数**:\n",
    "    \n",
    "* max/min/sum/mean/median/mode/var/std\n",
    "* count - the number of non-null elements/非空元素个数\n",
    "* size - the number of all elements/所有元素个数\n",
    "\n",
    "注意:函数放到agg里是要去括号加双引号"
   ]
  },
  {
   "cell_type": "markdown",
   "metadata": {},
   "source": [
    "#### Pivot Table 透视表"
   ]
  },
  {
   "cell_type": "code",
   "execution_count": 129,
   "metadata": {
    "ExecuteTime": {
     "end_time": "2020-02-21T17:08:25.429280Z",
     "start_time": "2020-02-21T17:08:25.404447Z"
    },
    "scrolled": true
   },
   "outputs": [
    {
     "data": {
      "text/html": [
       "<div>\n",
       "<style scoped>\n",
       "    .dataframe tbody tr th:only-of-type {\n",
       "        vertical-align: middle;\n",
       "    }\n",
       "\n",
       "    .dataframe tbody tr th {\n",
       "        vertical-align: top;\n",
       "    }\n",
       "\n",
       "    .dataframe thead tr th {\n",
       "        text-align: left;\n",
       "    }\n",
       "\n",
       "    .dataframe thead tr:last-of-type th {\n",
       "        text-align: right;\n",
       "    }\n",
       "</style>\n",
       "<table border=\"1\" class=\"dataframe\">\n",
       "  <thead>\n",
       "    <tr>\n",
       "      <th></th>\n",
       "      <th></th>\n",
       "      <th colspan=\"2\" halign=\"left\">height</th>\n",
       "      <th colspan=\"2\" halign=\"left\">weight</th>\n",
       "    </tr>\n",
       "    <tr>\n",
       "      <th></th>\n",
       "      <th>smoker</th>\n",
       "      <th>False</th>\n",
       "      <th>True</th>\n",
       "      <th>False</th>\n",
       "      <th>True</th>\n",
       "    </tr>\n",
       "    <tr>\n",
       "      <th>gender</th>\n",
       "      <th>color</th>\n",
       "      <th></th>\n",
       "      <th></th>\n",
       "      <th></th>\n",
       "      <th></th>\n",
       "    </tr>\n",
       "  </thead>\n",
       "  <tbody>\n",
       "    <tr>\n",
       "      <th rowspan=\"3\" valign=\"top\">f</th>\n",
       "      <th>black</th>\n",
       "      <td>175.000000</td>\n",
       "      <td>174.777778</td>\n",
       "      <td>74.500000</td>\n",
       "      <td>73.333333</td>\n",
       "    </tr>\n",
       "    <tr>\n",
       "      <th>white</th>\n",
       "      <td>172.375000</td>\n",
       "      <td>171.888889</td>\n",
       "      <td>53.375000</td>\n",
       "      <td>61.000000</td>\n",
       "    </tr>\n",
       "    <tr>\n",
       "      <th>yellow</th>\n",
       "      <td>170.000000</td>\n",
       "      <td>169.400000</td>\n",
       "      <td>73.000000</td>\n",
       "      <td>63.200000</td>\n",
       "    </tr>\n",
       "    <tr>\n",
       "      <th rowspan=\"3\" valign=\"top\">m</th>\n",
       "      <th>black</th>\n",
       "      <td>173.000000</td>\n",
       "      <td>167.833333</td>\n",
       "      <td>67.142857</td>\n",
       "      <td>55.833333</td>\n",
       "    </tr>\n",
       "    <tr>\n",
       "      <th>white</th>\n",
       "      <td>171.714286</td>\n",
       "      <td>172.200000</td>\n",
       "      <td>63.357143</td>\n",
       "      <td>63.500000</td>\n",
       "    </tr>\n",
       "    <tr>\n",
       "      <th>yellow</th>\n",
       "      <td>175.666667</td>\n",
       "      <td>166.750000</td>\n",
       "      <td>71.222222</td>\n",
       "      <td>59.875000</td>\n",
       "    </tr>\n",
       "  </tbody>\n",
       "</table>\n",
       "</div>"
      ],
      "text/plain": [
       "                   height                 weight           \n",
       "smoker              False       True       False      True \n",
       "gender color                                               \n",
       "f      black   175.000000  174.777778  74.500000  73.333333\n",
       "       white   172.375000  171.888889  53.375000  61.000000\n",
       "       yellow  170.000000  169.400000  73.000000  63.200000\n",
       "m      black   173.000000  167.833333  67.142857  55.833333\n",
       "       white   171.714286  172.200000  63.357143  63.500000\n",
       "       yellow  175.666667  166.750000  71.222222  59.875000"
      ]
     },
     "execution_count": 129,
     "metadata": {},
     "output_type": "execute_result"
    }
   ],
   "source": [
    "df.pivot_table(index=['gender','color'],values=['height','weight'],columns='smoker',aggfunc='mean')"
   ]
  },
  {
   "cell_type": "markdown",
   "metadata": {},
   "source": [
    "#### Stack and Unstack"
   ]
  },
  {
   "cell_type": "code",
   "execution_count": 182,
   "metadata": {
    "ExecuteTime": {
     "end_time": "2020-02-22T04:08:39.827086Z",
     "start_time": "2020-02-22T04:08:39.742266Z"
    },
    "scrolled": true
   },
   "outputs": [
    {
     "data": {
      "text/html": [
       "<div>\n",
       "<style scoped>\n",
       "    .dataframe tbody tr th:only-of-type {\n",
       "        vertical-align: middle;\n",
       "    }\n",
       "\n",
       "    .dataframe tbody tr th {\n",
       "        vertical-align: top;\n",
       "    }\n",
       "\n",
       "    .dataframe thead th {\n",
       "        text-align: right;\n",
       "    }\n",
       "</style>\n",
       "<table border=\"1\" class=\"dataframe\">\n",
       "  <thead>\n",
       "    <tr style=\"text-align: right;\">\n",
       "      <th></th>\n",
       "      <th></th>\n",
       "      <th>height</th>\n",
       "      <th>weight</th>\n",
       "    </tr>\n",
       "    <tr>\n",
       "      <th>gender</th>\n",
       "      <th>smoker</th>\n",
       "      <th></th>\n",
       "      <th></th>\n",
       "    </tr>\n",
       "  </thead>\n",
       "  <tbody>\n",
       "    <tr>\n",
       "      <th rowspan=\"2\" valign=\"top\">f</th>\n",
       "      <th>False</th>\n",
       "      <td>172.130435</td>\n",
       "      <td>66.565217</td>\n",
       "    </tr>\n",
       "    <tr>\n",
       "      <th>True</th>\n",
       "      <td>172.478261</td>\n",
       "      <td>66.304348</td>\n",
       "    </tr>\n",
       "    <tr>\n",
       "      <th rowspan=\"2\" valign=\"top\">m</th>\n",
       "      <th>False</th>\n",
       "      <td>173.200000</td>\n",
       "      <td>66.600000</td>\n",
       "    </tr>\n",
       "    <tr>\n",
       "      <th>True</th>\n",
       "      <td>169.291667</td>\n",
       "      <td>60.375000</td>\n",
       "    </tr>\n",
       "  </tbody>\n",
       "</table>\n",
       "</div>"
      ],
      "text/plain": [
       "                   height     weight\n",
       "gender smoker                       \n",
       "f      False   172.130435  66.565217\n",
       "       True    172.478261  66.304348\n",
       "m      False   173.200000  66.600000\n",
       "       True    169.291667  60.375000"
      ]
     },
     "execution_count": 182,
     "metadata": {},
     "output_type": "execute_result"
    }
   ],
   "source": [
    "df.pivot_table(index=['gender'],values=['height','weight'],columns='smoker',aggfunc='mean').stack()"
   ]
  },
  {
   "cell_type": "markdown",
   "metadata": {},
   "source": [
    "df.stack() stacks the column to rows at level 1 (default). 把level1的column-上上表smoker这一行，变成行-上表smoker这一列。"
   ]
  },
  {
   "cell_type": "code",
   "execution_count": 183,
   "metadata": {
    "ExecuteTime": {
     "end_time": "2020-02-22T04:13:45.243119Z",
     "start_time": "2020-02-22T04:13:45.189612Z"
    }
   },
   "outputs": [
    {
     "data": {
      "text/html": [
       "<div>\n",
       "<style scoped>\n",
       "    .dataframe tbody tr th:only-of-type {\n",
       "        vertical-align: middle;\n",
       "    }\n",
       "\n",
       "    .dataframe tbody tr th {\n",
       "        vertical-align: top;\n",
       "    }\n",
       "\n",
       "    .dataframe thead tr th {\n",
       "        text-align: left;\n",
       "    }\n",
       "\n",
       "    .dataframe thead tr:last-of-type th {\n",
       "        text-align: right;\n",
       "    }\n",
       "</style>\n",
       "<table border=\"1\" class=\"dataframe\">\n",
       "  <thead>\n",
       "    <tr>\n",
       "      <th></th>\n",
       "      <th colspan=\"2\" halign=\"left\">height</th>\n",
       "      <th colspan=\"2\" halign=\"left\">weight</th>\n",
       "    </tr>\n",
       "    <tr>\n",
       "      <th>gender</th>\n",
       "      <th>f</th>\n",
       "      <th>m</th>\n",
       "      <th>f</th>\n",
       "      <th>m</th>\n",
       "    </tr>\n",
       "    <tr>\n",
       "      <th>smoker</th>\n",
       "      <th></th>\n",
       "      <th></th>\n",
       "      <th></th>\n",
       "      <th></th>\n",
       "    </tr>\n",
       "  </thead>\n",
       "  <tbody>\n",
       "    <tr>\n",
       "      <th>False</th>\n",
       "      <td>172.130435</td>\n",
       "      <td>173.200000</td>\n",
       "      <td>66.565217</td>\n",
       "      <td>66.600</td>\n",
       "    </tr>\n",
       "    <tr>\n",
       "      <th>True</th>\n",
       "      <td>172.478261</td>\n",
       "      <td>169.291667</td>\n",
       "      <td>66.304348</td>\n",
       "      <td>60.375</td>\n",
       "    </tr>\n",
       "  </tbody>\n",
       "</table>\n",
       "</div>"
      ],
      "text/plain": [
       "            height                 weight        \n",
       "gender           f           m          f       m\n",
       "smoker                                           \n",
       "False   172.130435  173.200000  66.565217  66.600\n",
       "True    172.478261  169.291667  66.304348  60.375"
      ]
     },
     "execution_count": 183,
     "metadata": {},
     "output_type": "execute_result"
    }
   ],
   "source": [
    "df.pivot_table(index=['gender'],values=['height','weight'],columns='smoker',aggfunc='mean').stack().unstack(level=0)"
   ]
  },
  {
   "cell_type": "markdown",
   "metadata": {},
   "source": [
    "#### Cross Tab 交叉表"
   ]
  },
  {
   "cell_type": "code",
   "execution_count": 131,
   "metadata": {
    "ExecuteTime": {
     "end_time": "2020-02-21T17:09:07.206731Z",
     "start_time": "2020-02-21T17:09:07.180823Z"
    },
    "scrolled": true
   },
   "outputs": [
    {
     "data": {
      "text/html": [
       "<div>\n",
       "<style scoped>\n",
       "    .dataframe tbody tr th:only-of-type {\n",
       "        vertical-align: middle;\n",
       "    }\n",
       "\n",
       "    .dataframe tbody tr th {\n",
       "        vertical-align: top;\n",
       "    }\n",
       "\n",
       "    .dataframe thead th {\n",
       "        text-align: right;\n",
       "    }\n",
       "</style>\n",
       "<table border=\"1\" class=\"dataframe\">\n",
       "  <thead>\n",
       "    <tr style=\"text-align: right;\">\n",
       "      <th>smoker</th>\n",
       "      <th>False</th>\n",
       "      <th>True</th>\n",
       "    </tr>\n",
       "    <tr>\n",
       "      <th>gender</th>\n",
       "      <th></th>\n",
       "      <th></th>\n",
       "    </tr>\n",
       "  </thead>\n",
       "  <tbody>\n",
       "    <tr>\n",
       "      <th>f</th>\n",
       "      <td>23</td>\n",
       "      <td>23</td>\n",
       "    </tr>\n",
       "    <tr>\n",
       "      <th>m</th>\n",
       "      <td>30</td>\n",
       "      <td>24</td>\n",
       "    </tr>\n",
       "  </tbody>\n",
       "</table>\n",
       "</div>"
      ],
      "text/plain": [
       "smoker  False  True \n",
       "gender              \n",
       "f          23     23\n",
       "m          30     24"
      ]
     },
     "execution_count": 131,
     "metadata": {},
     "output_type": "execute_result"
    }
   ],
   "source": [
    "pd.crosstab(df.gender,df.smoker)"
   ]
  },
  {
   "cell_type": "markdown",
   "metadata": {},
   "source": [
    "## Time Series Manipulation"
   ]
  },
  {
   "cell_type": "markdown",
   "metadata": {},
   "source": [
    "## Pandas Tricks"
   ]
  },
  {
   "cell_type": "markdown",
   "metadata": {},
   "source": [
    "### map, apply and applymap"
   ]
  },
  {
   "cell_type": "markdown",
   "metadata": {},
   "source": [
    "* map() works on pd.Series\n",
    "* apply() mworks on pd.Series/pd.DataFrame\n",
    "* applymap() works on the entire datafrime"
   ]
  },
  {
   "cell_type": "markdown",
   "metadata": {},
   "source": [
    "### Other useful functions 其他有用的函数"
   ]
  },
  {
   "cell_type": "markdown",
   "metadata": {},
   "source": [
    "* df.value_counts()\n",
    "* df.sort_values()\n",
    "* df.cumsum()\n",
    "* df.where()\n",
    "* df.nunique()"
   ]
  },
  {
   "cell_type": "markdown",
   "metadata": {
    "ExecuteTime": {
     "end_time": "2020-02-21T21:16:08.753944Z",
     "start_time": "2020-02-21T21:16:08.745624Z"
    }
   },
   "source": [
    "### Operation’s  performance rank in Pandas 运算性能表现"
   ]
  },
  {
   "cell_type": "markdown",
   "metadata": {},
   "source": [
    "1. Vectorization with NumPy arrays\n",
    "2. Vectorization with Pandas series\n",
    "3. Looping with apply()\n",
    "4. Looping with iterrows()\n",
    "5. Crude looping over DataFrame rows using indices\n"
   ]
  },
  {
   "cell_type": "code",
   "execution_count": null,
   "metadata": {},
   "outputs": [],
   "source": []
  }
 ],
 "metadata": {
  "kernelspec": {
   "display_name": "Python 3",
   "language": "python",
   "name": "python3"
  },
  "language_info": {
   "codemirror_mode": {
    "name": "ipython",
    "version": 3
   },
   "file_extension": ".py",
   "mimetype": "text/x-python",
   "name": "python",
   "nbconvert_exporter": "python",
   "pygments_lexer": "ipython3",
   "version": "3.6.8"
  },
  "toc": {
   "base_numbering": 1,
   "nav_menu": {},
   "number_sections": true,
   "sideBar": true,
   "skip_h1_title": false,
   "title_cell": "Table of Contents",
   "title_sidebar": "Contents",
   "toc_cell": true,
   "toc_position": {},
   "toc_section_display": true,
   "toc_window_display": false
  },
  "varInspector": {
   "cols": {
    "lenName": 16,
    "lenType": 16,
    "lenVar": 40
   },
   "kernels_config": {
    "python": {
     "delete_cmd_postfix": "",
     "delete_cmd_prefix": "del ",
     "library": "var_list.py",
     "varRefreshCmd": "print(var_dic_list())"
    },
    "r": {
     "delete_cmd_postfix": ") ",
     "delete_cmd_prefix": "rm(",
     "library": "var_list.r",
     "varRefreshCmd": "cat(var_dic_list()) "
    }
   },
   "types_to_exclude": [
    "module",
    "function",
    "builtin_function_or_method",
    "instance",
    "_Feature"
   ],
   "window_display": false
  }
 },
 "nbformat": 4,
 "nbformat_minor": 2
}
