{
 "cells": [
  {
   "cell_type": "markdown",
   "metadata": {
    "ExecuteTime": {
     "end_time": "2020-02-22T21:55:21.479814Z",
     "start_time": "2020-02-22T21:55:21.476491Z"
    }
   },
   "source": [
    "<font size=6><center>It's not luck. It's hard work.</center></font>  "
   ]
  },
  {
   "cell_type": "markdown",
   "metadata": {
    "toc": true
   },
   "source": [
    "<h1>Table of Contents<span class=\"tocSkip\"></span></h1>\n",
    "<div class=\"toc\"><ul class=\"toc-item\"><li><span><a href=\"#Introduction\" data-toc-modified-id=\"Introduction-1\"><span class=\"toc-item-num\">1&nbsp;&nbsp;</span>Introduction</a></span></li><li><span><a href=\"#Relational-Data-Model\" data-toc-modified-id=\"Relational-Data-Model-2\"><span class=\"toc-item-num\">2&nbsp;&nbsp;</span>Relational Data Model</a></span></li></ul></div>"
   ]
  },
  {
   "cell_type": "markdown",
   "metadata": {},
   "source": [
    "# Introduction"
   ]
  },
  {
   "cell_type": "markdown",
   "metadata": {},
   "source": [
    "**Data Engineer**: who build data models, build data warehouses and lakes, automate data pipelines and work with massive datasets"
   ]
  },
  {
   "cell_type": "markdown",
   "metadata": {},
   "source": [
    "**Data Modeling**: the process that orginize data into db and defines how they will relate to each other, to ensure data is persisted and usable."
   ]
  },
  {
   "cell_type": "markdown",
   "metadata": {},
   "source": [
    "**Relational Model**: orgnize data into one or more tables of columns and rows. Each row has a unique identifier and represent a single item; each column represent the attribute of the entity represented by the table."
   ]
  },
  {
   "cell_type": "markdown",
   "metadata": {},
   "source": [
    "**Why RDBMS**(Relational Database Management System)?\n",
    "* ease of manipulating data （joins） and performing ad-hoc analysis\n",
    "* great for smaller data volumes\n",
    "* ACID transactions: guarantees validity even in the event of errors, power failures\n",
    "    * Atomicity (原子性)\n",
    "    * Consistency (一致性)\n",
    "    * Isolation (隔离性)\n",
    "    * Durability (持久性)"
   ]
  },
  {
   "cell_type": "markdown",
   "metadata": {},
   "source": [
    "**No SQL**\n",
    "Non-relational DB\n",
    "* Simple design\n",
    "* Horizontal scaling\n",
    "* Finer control of availability\n",
    "* Fast operation\n",
    "\n",
    "Type:\n",
    "* Apache cassandra\n",
    "* Mango DB"
   ]
  },
  {
   "cell_type": "markdown",
   "metadata": {},
   "source": [
    "**Cassandra**: data distributed by partitions across nodes/servers and data is orgnized in rows and columns format."
   ]
  },
  {
   "cell_type": "markdown",
   "metadata": {},
   "source": [
    "**Why NoSQL**:\n",
    "* Large amount of data\n",
    "* Need horizontal scaling (Scale by adding more machines)\n",
    "* High throughput: the speed that items pass through systems/processes\n",
    "* Need flexible schema and data type\n",
    "* Need high availability\n",
    "* Distributed users -low latency(delay)"
   ]
  },
  {
   "cell_type": "markdown",
   "metadata": {},
   "source": [
    "# Relational Data Model"
   ]
  },
  {
   "cell_type": "markdown",
   "metadata": {},
   "source": [
    "**OLAP**(online analytical processing): DB optimized for analytics and ad-hoc queries\n",
    "\n",
    "**OLTP**(online transactional processing): DB optimized for less complex queries in large volumes"
   ]
  },
  {
   "cell_type": "markdown",
   "metadata": {},
   "source": [
    "**Normalization**: to reduce data redundancy(copies of data) and increase data integrity(correctiness)\n",
    "**Denormalization** is the process of improving the read performance of a database, at the expense of losing some write performance, by adding redundant copies of data or by grouping data\n",
    "    "
   ]
  },
  {
   "cell_type": "markdown",
   "metadata": {},
   "source": [
    "**Normal Forms**:\n",
    "* 1NF: one cell must contain unique single attribute\n",
    "* 2NF: 1NF + all columns in the table must directly relay on the PK\n",
    "* 3NF: 2NF + no transitive dependencies"
   ]
  },
  {
   "cell_type": "markdown",
   "metadata": {},
   "source": [
    "**Fact tables**:\n",
    "\n",
    "**Dimension tables**:    "
   ]
  },
  {
   "cell_type": "code",
   "execution_count": null,
   "metadata": {},
   "outputs": [],
   "source": []
  }
 ],
 "metadata": {
  "kernelspec": {
   "display_name": "Python 3",
   "language": "python",
   "name": "python3"
  },
  "language_info": {
   "codemirror_mode": {
    "name": "ipython",
    "version": 3
   },
   "file_extension": ".py",
   "mimetype": "text/x-python",
   "name": "python",
   "nbconvert_exporter": "python",
   "pygments_lexer": "ipython3",
   "version": "3.6.8"
  },
  "toc": {
   "base_numbering": 1,
   "nav_menu": {},
   "number_sections": true,
   "sideBar": true,
   "skip_h1_title": false,
   "title_cell": "Table of Contents",
   "title_sidebar": "Contents",
   "toc_cell": true,
   "toc_position": {},
   "toc_section_display": true,
   "toc_window_display": false
  },
  "varInspector": {
   "cols": {
    "lenName": 16,
    "lenType": 16,
    "lenVar": 40
   },
   "kernels_config": {
    "python": {
     "delete_cmd_postfix": "",
     "delete_cmd_prefix": "del ",
     "library": "var_list.py",
     "varRefreshCmd": "print(var_dic_list())"
    },
    "r": {
     "delete_cmd_postfix": ") ",
     "delete_cmd_prefix": "rm(",
     "library": "var_list.r",
     "varRefreshCmd": "cat(var_dic_list()) "
    }
   },
   "types_to_exclude": [
    "module",
    "function",
    "builtin_function_or_method",
    "instance",
    "_Feature"
   ],
   "window_display": false
  }
 },
 "nbformat": 4,
 "nbformat_minor": 2
}
